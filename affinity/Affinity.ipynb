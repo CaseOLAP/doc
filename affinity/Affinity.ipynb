{
 "cells": [
  {
   "cell_type": "markdown",
   "metadata": {},
   "source": [
    "## Clustering: Affinity Propagation"
   ]
  },
  {
   "cell_type": "code",
   "execution_count": 1,
   "metadata": {},
   "outputs": [],
   "source": [
    "from sklearn.cluster import AffinityPropagation\n",
    "import matplotlib.pyplot as plt\n",
    "import pandas as pd\n",
    "import numpy as np\n",
    "import seaborn as sns\n",
    "%matplotlib inline\n",
    "from itertools import cycle"
   ]
  },
  {
   "cell_type": "markdown",
   "metadata": {},
   "source": [
    "### Get Data"
   ]
  },
  {
   "cell_type": "code",
   "execution_count": 44,
   "metadata": {},
   "outputs": [],
   "source": [
    "data = pd.read_csv('../datareader/score/old-score.csv')\n",
    "data.index = data['phrase']\n",
    "ndf = data.drop('phrase',axis =1)"
   ]
  },
  {
   "cell_type": "code",
   "execution_count": 45,
   "metadata": {},
   "outputs": [
    {
     "data": {
      "text/html": [
       "<div>\n",
       "<style scoped>\n",
       "    .dataframe tbody tr th:only-of-type {\n",
       "        vertical-align: middle;\n",
       "    }\n",
       "\n",
       "    .dataframe tbody tr th {\n",
       "        vertical-align: top;\n",
       "    }\n",
       "\n",
       "    .dataframe thead th {\n",
       "        text-align: right;\n",
       "    }\n",
       "</style>\n",
       "<table border=\"1\" class=\"dataframe\">\n",
       "  <thead>\n",
       "    <tr style=\"text-align: right;\">\n",
       "      <th></th>\n",
       "      <th>Unnamed: 0</th>\n",
       "      <th>CVA</th>\n",
       "      <th>IHD</th>\n",
       "      <th>CM</th>\n",
       "      <th>ARR</th>\n",
       "      <th>VD</th>\n",
       "      <th>CHD</th>\n",
       "    </tr>\n",
       "    <tr>\n",
       "      <th>phrase</th>\n",
       "      <th></th>\n",
       "      <th></th>\n",
       "      <th></th>\n",
       "      <th></th>\n",
       "      <th></th>\n",
       "      <th></th>\n",
       "      <th></th>\n",
       "    </tr>\n",
       "  </thead>\n",
       "  <tbody>\n",
       "    <tr>\n",
       "      <th>1,25-dihydroxyvitamin_d(3)_24-hydroxylase,_mitochondrial</th>\n",
       "      <td>0</td>\n",
       "      <td>0.000000</td>\n",
       "      <td>0.446767</td>\n",
       "      <td>0.000000</td>\n",
       "      <td>0.000000</td>\n",
       "      <td>0.0</td>\n",
       "      <td>0.000000</td>\n",
       "    </tr>\n",
       "    <tr>\n",
       "      <th>1,4-alpha-glucan-branching_enzyme</th>\n",
       "      <td>1</td>\n",
       "      <td>0.290414</td>\n",
       "      <td>0.000000</td>\n",
       "      <td>1.035505</td>\n",
       "      <td>0.091431</td>\n",
       "      <td>0.0</td>\n",
       "      <td>0.372223</td>\n",
       "    </tr>\n",
       "    <tr>\n",
       "      <th>1,5-anhydro-d-fructose_reductase</th>\n",
       "      <td>2</td>\n",
       "      <td>0.000000</td>\n",
       "      <td>0.000000</td>\n",
       "      <td>0.000000</td>\n",
       "      <td>0.000000</td>\n",
       "      <td>0.0</td>\n",
       "      <td>2.220267</td>\n",
       "    </tr>\n",
       "    <tr>\n",
       "      <th>1-phosphatidylinositol_3-phosphate_5-kinase</th>\n",
       "      <td>3</td>\n",
       "      <td>0.000000</td>\n",
       "      <td>0.000000</td>\n",
       "      <td>0.000000</td>\n",
       "      <td>0.308680</td>\n",
       "      <td>0.0</td>\n",
       "      <td>0.317226</td>\n",
       "    </tr>\n",
       "    <tr>\n",
       "      <th>1-phosphatidylinositol_4,5-bisphosphate_phosphodiesterase_beta-1</th>\n",
       "      <td>4</td>\n",
       "      <td>0.000000</td>\n",
       "      <td>0.000000</td>\n",
       "      <td>0.472116</td>\n",
       "      <td>0.000000</td>\n",
       "      <td>0.0</td>\n",
       "      <td>0.000000</td>\n",
       "    </tr>\n",
       "  </tbody>\n",
       "</table>\n",
       "</div>"
      ],
      "text/plain": [
       "                                                    Unnamed: 0       CVA  \\\n",
       "phrase                                                                     \n",
       "1,25-dihydroxyvitamin_d(3)_24-hydroxylase,_mito...           0  0.000000   \n",
       "1,4-alpha-glucan-branching_enzyme                            1  0.290414   \n",
       "1,5-anhydro-d-fructose_reductase                             2  0.000000   \n",
       "1-phosphatidylinositol_3-phosphate_5-kinase                  3  0.000000   \n",
       "1-phosphatidylinositol_4,5-bisphosphate_phospho...           4  0.000000   \n",
       "\n",
       "                                                         IHD        CM  \\\n",
       "phrase                                                                   \n",
       "1,25-dihydroxyvitamin_d(3)_24-hydroxylase,_mito...  0.446767  0.000000   \n",
       "1,4-alpha-glucan-branching_enzyme                   0.000000  1.035505   \n",
       "1,5-anhydro-d-fructose_reductase                    0.000000  0.000000   \n",
       "1-phosphatidylinositol_3-phosphate_5-kinase         0.000000  0.000000   \n",
       "1-phosphatidylinositol_4,5-bisphosphate_phospho...  0.000000  0.472116   \n",
       "\n",
       "                                                         ARR   VD       CHD  \n",
       "phrase                                                                       \n",
       "1,25-dihydroxyvitamin_d(3)_24-hydroxylase,_mito...  0.000000  0.0  0.000000  \n",
       "1,4-alpha-glucan-branching_enzyme                   0.091431  0.0  0.372223  \n",
       "1,5-anhydro-d-fructose_reductase                    0.000000  0.0  2.220267  \n",
       "1-phosphatidylinositol_3-phosphate_5-kinase         0.308680  0.0  0.317226  \n",
       "1-phosphatidylinositol_4,5-bisphosphate_phospho...  0.000000  0.0  0.000000  "
      ]
     },
     "execution_count": 45,
     "metadata": {},
     "output_type": "execute_result"
    }
   ],
   "source": [
    "ndf.head()"
   ]
  },
  {
   "cell_type": "code",
   "execution_count": 46,
   "metadata": {},
   "outputs": [
    {
     "data": {
      "text/plain": [
       "(3175, 7)"
      ]
     },
     "execution_count": 46,
     "metadata": {},
     "output_type": "execute_result"
    }
   ],
   "source": [
    "ndf.shape"
   ]
  },
  {
   "cell_type": "markdown",
   "metadata": {},
   "source": [
    "### Split data"
   ]
  },
  {
   "cell_type": "code",
   "execution_count": 47,
   "metadata": {},
   "outputs": [],
   "source": [
    "tdata = ndf.copy(deep =True)"
   ]
  },
  {
   "cell_type": "code",
   "execution_count": 48,
   "metadata": {},
   "outputs": [],
   "source": [
    "cva_ihd = tdata.drop([ 'CM', 'ARR', 'VD', 'CHD'],axis =1)\n",
    "cva_cm = tdata.drop([ 'IHD', 'ARR', 'VD', 'CHD'],axis =1)\n",
    "cva_arr = tdata.drop([ 'IHD', 'CM', 'VD', 'CHD'],axis =1)\n",
    "cva_vd = tdata.drop([ 'IHD', 'CM', 'ARR', 'CHD'],axis =1)\n",
    "cva_chd = tdata.drop(['IHD', 'CM', 'ARR', 'VD'],axis =1)\n",
    "ihd_cm = tdata.drop(['CVA', 'ARR', 'VD', 'CHD'],axis =1)\n",
    "ihd_arr = tdata.drop(['CVA', 'CM', 'VD', 'CHD'],axis =1)\n",
    "ihd_vd = tdata.drop(['CVA', 'CM', 'ARR', 'CHD'],axis =1)\n",
    "ihd_chd = tdata.drop(['CVA', 'CM', 'ARR', 'VD'],axis =1)\n",
    "cm_arr = tdata.drop(['CVA', 'IHD', 'VD', 'CHD'],axis =1)\n",
    "cm_vd = tdata.drop(['CVA', 'IHD', 'ARR', 'CHD'],axis =1)\n",
    "cm_chd = tdata.drop(['CVA', 'IHD', 'ARR', 'VD'],axis =1)\n",
    "arr_vd = tdata.drop(['CVA', 'IHD', 'CM', 'CHD'],axis =1)\n",
    "arr_chd = tdata.drop(['CVA', 'IHD', 'CM', 'VD'],axis =1)\n",
    "vd_chd = tdata.drop(['CVA', 'IHD', 'CM', 'ARR'],axis =1)"
   ]
  },
  {
   "cell_type": "code",
   "execution_count": 88,
   "metadata": {},
   "outputs": [],
   "source": [
    "def remover(df,cvd1,cvd2):\n",
    "    \n",
    "    protein = df.index\n",
    "    d1 = df[cvd1]\n",
    "    d2 = df[cvd2]\n",
    "    DT = []\n",
    "    c = 0.5\n",
    "    cutoff = list(df.mean()+(c*df.std()))\n",
    "    for p,a,b in zip(protein,d1,d2):\n",
    "        if a > cutoff[0] or  b > cutoff[1] :\n",
    "            DT.append({'protein': p, cvd1: a, cvd2: b},)\n",
    "    dfr = pd.DataFrame(DT)\n",
    "    dfr.index = dfr['protein']\n",
    "    dfr = dfr.drop('protein',axis =1)\n",
    "    return dfr"
   ]
  },
  {
   "cell_type": "markdown",
   "metadata": {},
   "source": [
    "### Select Pair"
   ]
  },
  {
   "cell_type": "code",
   "execution_count": 92,
   "metadata": {},
   "outputs": [],
   "source": [
    "cvd1 = 'ARR' #\n",
    "cvd2 = 'CVA'\n",
    "df = cva_arr\n",
    "pref=-1.0"
   ]
  },
  {
   "cell_type": "code",
   "execution_count": 100,
   "metadata": {},
   "outputs": [],
   "source": [
    "cvd1 = 'IHD' #\n",
    "cvd2 = 'CVA'\n",
    "df = cva_ihd\n",
    "pref=-1.0"
   ]
  },
  {
   "cell_type": "code",
   "execution_count": 33,
   "metadata": {},
   "outputs": [],
   "source": [
    "cvd1 = 'CM' #\n",
    "cvd2 = 'CVA'\n",
    "df = cva_cm\n",
    "pref=-0.1"
   ]
  },
  {
   "cell_type": "code",
   "execution_count": 32,
   "metadata": {},
   "outputs": [],
   "source": [
    "cvd1 = 'VD'  #\n",
    "cvd2 = 'CVA'\n",
    "df = cva_vd\n",
    "pref=-0.1"
   ]
  },
  {
   "cell_type": "code",
   "execution_count": 51,
   "metadata": {},
   "outputs": [],
   "source": [
    "cvd1 = 'CHD' #\n",
    "cvd2 = 'CVA'\n",
    "df = cva_chd\n",
    "pref=-0.1"
   ]
  },
  {
   "cell_type": "code",
   "execution_count": 62,
   "metadata": {},
   "outputs": [],
   "source": [
    "cvd1 = 'IHD'#\n",
    "cvd2 = 'CM'\n",
    "df = ihd_cm\n",
    "pref=-0.1"
   ]
  },
  {
   "cell_type": "code",
   "execution_count": 73,
   "metadata": {},
   "outputs": [],
   "source": [
    "cvd1 = 'IHD'#\n",
    "cvd2 = 'ARR'\n",
    "df = ihd_arr\n",
    "pref=-0.1"
   ]
  },
  {
   "cell_type": "code",
   "execution_count": 84,
   "metadata": {},
   "outputs": [],
   "source": [
    "cvd1 = 'IHD'#\n",
    "cvd2 = 'VD'\n",
    "df = ihd_vd\n",
    "pref=-0.1"
   ]
  },
  {
   "cell_type": "code",
   "execution_count": 95,
   "metadata": {},
   "outputs": [],
   "source": [
    "cvd1 = 'IHD' #\n",
    "cvd2 = 'CHD'\n",
    "df = ihd_chd\n",
    "pref=-0.1"
   ]
  },
  {
   "cell_type": "code",
   "execution_count": 108,
   "metadata": {},
   "outputs": [],
   "source": [
    "cvd1 = 'CM' #\n",
    "cvd2 = 'ARR'\n",
    "df = cm_arr\n",
    "pref=-0.1"
   ]
  },
  {
   "cell_type": "code",
   "execution_count": 119,
   "metadata": {},
   "outputs": [],
   "source": [
    "cvd1 = 'CM' #\n",
    "cvd2 = 'VD'\n",
    "df = cm_vd\n",
    "pref=-0.1"
   ]
  },
  {
   "cell_type": "code",
   "execution_count": 130,
   "metadata": {},
   "outputs": [],
   "source": [
    "cvd1 = 'CM'#\n",
    "cvd2 = 'CHD'\n",
    "df = cm_chd\n",
    "pref=-0.1"
   ]
  },
  {
   "cell_type": "code",
   "execution_count": 141,
   "metadata": {},
   "outputs": [],
   "source": [
    "cvd1 = 'ARR'#\n",
    "cvd2 = 'VD'\n",
    "df = arr_vd\n",
    "pref=-0.1"
   ]
  },
  {
   "cell_type": "code",
   "execution_count": 152,
   "metadata": {},
   "outputs": [],
   "source": [
    "cvd1 = 'ARR'#\n",
    "cvd2 = 'CHD'\n",
    "df = arr_chd\n",
    "pref=-0.1"
   ]
  },
  {
   "cell_type": "code",
   "execution_count": 165,
   "metadata": {},
   "outputs": [],
   "source": [
    "cvd1 = 'VD'#\n",
    "cvd2 = 'CHD'\n",
    "df = vd_chd\n",
    "pref=-0.1"
   ]
  },
  {
   "cell_type": "markdown",
   "metadata": {},
   "source": [
    "--------"
   ]
  },
  {
   "cell_type": "code",
   "execution_count": 101,
   "metadata": {},
   "outputs": [
    {
     "data": {
      "text/html": [
       "<div>\n",
       "<style scoped>\n",
       "    .dataframe tbody tr th:only-of-type {\n",
       "        vertical-align: middle;\n",
       "    }\n",
       "\n",
       "    .dataframe tbody tr th {\n",
       "        vertical-align: top;\n",
       "    }\n",
       "\n",
       "    .dataframe thead th {\n",
       "        text-align: right;\n",
       "    }\n",
       "</style>\n",
       "<table border=\"1\" class=\"dataframe\">\n",
       "  <thead>\n",
       "    <tr style=\"text-align: right;\">\n",
       "      <th></th>\n",
       "      <th>CVA</th>\n",
       "      <th>IHD</th>\n",
       "    </tr>\n",
       "    <tr>\n",
       "      <th>protein</th>\n",
       "      <th></th>\n",
       "      <th></th>\n",
       "    </tr>\n",
       "  </thead>\n",
       "  <tbody>\n",
       "    <tr>\n",
       "      <th>1-phosphatidylinositol_4,5-bisphosphate_phosphodiesterase_delta-1</th>\n",
       "      <td>0.484608</td>\n",
       "      <td>0.000000</td>\n",
       "    </tr>\n",
       "    <tr>\n",
       "      <th>2',3'-cyclic-nucleotide_3'-phosphodiesterase</th>\n",
       "      <td>2.739150</td>\n",
       "      <td>0.000000</td>\n",
       "    </tr>\n",
       "    <tr>\n",
       "      <th>3-hydroxy-3-methylglutaryl-coenzyme_a_reductase</th>\n",
       "      <td>1.006448</td>\n",
       "      <td>3.095639</td>\n",
       "    </tr>\n",
       "    <tr>\n",
       "      <th>43_kda_receptor-associated_protein_of_the_synapse</th>\n",
       "      <td>1.283404</td>\n",
       "      <td>0.169499</td>\n",
       "    </tr>\n",
       "    <tr>\n",
       "      <th>5-hydroxytryptamine_receptor_1a</th>\n",
       "      <td>0.846001</td>\n",
       "      <td>0.484862</td>\n",
       "    </tr>\n",
       "  </tbody>\n",
       "</table>\n",
       "</div>"
      ],
      "text/plain": [
       "                                                         CVA       IHD\n",
       "protein                                                               \n",
       "1-phosphatidylinositol_4,5-bisphosphate_phospho...  0.484608  0.000000\n",
       "2',3'-cyclic-nucleotide_3'-phosphodiesterase        2.739150  0.000000\n",
       "3-hydroxy-3-methylglutaryl-coenzyme_a_reductase     1.006448  3.095639\n",
       "43_kda_receptor-associated_protein_of_the_synapse   1.283404  0.169499\n",
       "5-hydroxytryptamine_receptor_1a                     0.846001  0.484862"
      ]
     },
     "execution_count": 101,
     "metadata": {},
     "output_type": "execute_result"
    }
   ],
   "source": [
    "rdf = remover(df,cvd1,cvd2)\n",
    "rdf.head()"
   ]
  },
  {
   "cell_type": "code",
   "execution_count": 102,
   "metadata": {},
   "outputs": [
    {
     "data": {
      "text/plain": [
       "(628, 2)"
      ]
     },
     "execution_count": 102,
     "metadata": {},
     "output_type": "execute_result"
    }
   ],
   "source": [
    "rdf.shape"
   ]
  },
  {
   "cell_type": "code",
   "execution_count": 103,
   "metadata": {},
   "outputs": [],
   "source": [
    "X = rdf.copy(deep =True)\n",
    "p = np.array(list(X.index))"
   ]
  },
  {
   "cell_type": "markdown",
   "metadata": {},
   "source": [
    "### Affinity Propagation"
   ]
  },
  {
   "cell_type": "code",
   "execution_count": 104,
   "metadata": {},
   "outputs": [
    {
     "data": {
      "text/plain": [
       "23"
      ]
     },
     "execution_count": 104,
     "metadata": {},
     "output_type": "execute_result"
    }
   ],
   "source": [
    "# Compute Affinity Propagation\n",
    "af = AffinityPropagation(preference = pref).fit(X)\n",
    "indices = af.cluster_centers_indices_\n",
    "labels = af.labels_\n",
    "n_clusters = len(indices)\n",
    "n_clusters"
   ]
  },
  {
   "cell_type": "markdown",
   "metadata": {},
   "source": [
    "### Data and Plot"
   ]
  },
  {
   "cell_type": "code",
   "execution_count": 105,
   "metadata": {},
   "outputs": [
    {
     "data": {
      "image/png": "[encoded data removed]",
      "text/plain": [
       "<matplotlib.figure.Figure at 0x7ff60ab64c50>"
      ]
     },
     "metadata": {},
     "output_type": "display_data"
    }
   ],
   "source": [
    "sns.set()\n",
    "plt.figure(figsize = [15,15])\n",
    "DTT =[]\n",
    "X = np.array(X)\n",
    "colors = cycle('bgrcmykbgrcmykbgrcmykbgrcmyk')\n",
    "for k, col in zip(range(n_clusters), colors):\n",
    "    class_members = labels == k\n",
    "    cluster_center = X[indices[k]]\n",
    "    ln = len(X[class_members, 0])\n",
    "    if ln >1:\n",
    "        for i in range(ln):\n",
    "            DTT.append({'label': k,\\\n",
    "                        'protein': p[class_members][i],\\\n",
    "                        cvd1: X[class_members, 0][i],\\\n",
    "                        cvd2: X[class_members, 1][i],\\\n",
    "                        'color':col})\n",
    "    else:\n",
    "           \n",
    "        DTT.append({'label': k,\\\n",
    "                        'protein': p[class_members][0],\\\n",
    "                        cvd1: X[class_members, 0][0],\\\n",
    "                        cvd2: X[class_members, 1][0],\\\n",
    "                        'color':col})\n",
    "    \n",
    "    # plot data\n",
    "    plt.plot(X[class_members, 0], X[class_members, 1], col + '.')\n",
    "    # plot center\n",
    "    plt.plot(cluster_center[0], cluster_center[1], '.', markerfacecolor=col,\n",
    "             markeredgecolor='k', markersize=14)\n",
    "    # draw lines\n",
    "    for x in X[class_members]:\n",
    "        plt.plot([cluster_center[0], x[0]], [cluster_center[1], x[1]], col)\n",
    "        \n",
    "plt.title('Estimated number of clusters: %d' % n_clusters)\n",
    "plt.xlabel(cvd1, fontsize = 25)\n",
    "plt.ylabel(cvd2, fontsize = 25 )\n",
    "plt.savefig('plot/'+cvd1+'-'+cvd2+'.pdf')\n",
    "plt.show()"
   ]
  },
  {
   "cell_type": "markdown",
   "metadata": {},
   "source": [
    "------"
   ]
  },
  {
   "cell_type": "code",
   "execution_count": 98,
   "metadata": {},
   "outputs": [
    {
     "data": {
      "text/html": [
       "<div>\n",
       "<style scoped>\n",
       "    .dataframe tbody tr th:only-of-type {\n",
       "        vertical-align: middle;\n",
       "    }\n",
       "\n",
       "    .dataframe tbody tr th {\n",
       "        vertical-align: top;\n",
       "    }\n",
       "\n",
       "    .dataframe thead th {\n",
       "        text-align: right;\n",
       "    }\n",
       "</style>\n",
       "<table border=\"1\" class=\"dataframe\">\n",
       "  <thead>\n",
       "    <tr style=\"text-align: right;\">\n",
       "      <th></th>\n",
       "      <th>ARR</th>\n",
       "      <th>CVA</th>\n",
       "      <th>color</th>\n",
       "      <th>label</th>\n",
       "    </tr>\n",
       "    <tr>\n",
       "      <th>protein</th>\n",
       "      <th></th>\n",
       "      <th></th>\n",
       "      <th></th>\n",
       "      <th></th>\n",
       "    </tr>\n",
       "  </thead>\n",
       "  <tbody>\n",
       "    <tr>\n",
       "      <th>1-phosphatidylinositol_4,5-bisphosphate_phosphodiesterase_delta-1</th>\n",
       "      <td>0.000000</td>\n",
       "      <td>0.484608</td>\n",
       "      <td>b</td>\n",
       "      <td>0</td>\n",
       "    </tr>\n",
       "    <tr>\n",
       "      <th>5-hydroxytryptamine_receptor_2a</th>\n",
       "      <td>0.174764</td>\n",
       "      <td>0.555104</td>\n",
       "      <td>b</td>\n",
       "      <td>0</td>\n",
       "    </tr>\n",
       "    <tr>\n",
       "      <th>78_kda_glucose-regulated_protein</th>\n",
       "      <td>0.065296</td>\n",
       "      <td>0.529532</td>\n",
       "      <td>b</td>\n",
       "      <td>0</td>\n",
       "    </tr>\n",
       "    <tr>\n",
       "      <th>achaete-scute_homolog_1</th>\n",
       "      <td>0.000000</td>\n",
       "      <td>0.449759</td>\n",
       "      <td>b</td>\n",
       "      <td>0</td>\n",
       "    </tr>\n",
       "    <tr>\n",
       "      <th>adenylyl_cyclase-associated_protein_2</th>\n",
       "      <td>0.000000</td>\n",
       "      <td>0.449759</td>\n",
       "      <td>b</td>\n",
       "      <td>0</td>\n",
       "    </tr>\n",
       "  </tbody>\n",
       "</table>\n",
       "</div>"
      ],
      "text/plain": [
       "                                                         ARR       CVA color  \\\n",
       "protein                                                                        \n",
       "1-phosphatidylinositol_4,5-bisphosphate_phospho...  0.000000  0.484608     b   \n",
       "5-hydroxytryptamine_receptor_2a                     0.174764  0.555104     b   \n",
       "78_kda_glucose-regulated_protein                    0.065296  0.529532     b   \n",
       "achaete-scute_homolog_1                             0.000000  0.449759     b   \n",
       "adenylyl_cyclase-associated_protein_2               0.000000  0.449759     b   \n",
       "\n",
       "                                                    label  \n",
       "protein                                                    \n",
       "1-phosphatidylinositol_4,5-bisphosphate_phospho...      0  \n",
       "5-hydroxytryptamine_receptor_2a                         0  \n",
       "78_kda_glucose-regulated_protein                        0  \n",
       "achaete-scute_homolog_1                                 0  \n",
       "adenylyl_cyclase-associated_protein_2                   0  "
      ]
     },
     "execution_count": 98,
     "metadata": {},
     "output_type": "execute_result"
    }
   ],
   "source": [
    "listdf = pd.DataFrame(DTT)\n",
    "listdf.index = listdf['protein']\n",
    "listdf = listdf.drop('protein',axis =1)\n",
    "listdf.head(5)"
   ]
  },
  {
   "cell_type": "markdown",
   "metadata": {},
   "source": [
    "### Add Uniprot"
   ]
  },
  {
   "cell_type": "code",
   "execution_count": 27,
   "metadata": {},
   "outputs": [
    {
     "data": {
      "text/html": [
       "<div>\n",
       "<style scoped>\n",
       "    .dataframe tbody tr th:only-of-type {\n",
       "        vertical-align: middle;\n",
       "    }\n",
       "\n",
       "    .dataframe tbody tr th {\n",
       "        vertical-align: top;\n",
       "    }\n",
       "\n",
       "    .dataframe thead th {\n",
       "        text-align: right;\n",
       "    }\n",
       "</style>\n",
       "<table border=\"1\" class=\"dataframe\">\n",
       "  <thead>\n",
       "    <tr style=\"text-align: right;\">\n",
       "      <th></th>\n",
       "      <th>uniprot_id</th>\n",
       "      <th>gene_names</th>\n",
       "      <th>has_multiple_IDs</th>\n",
       "    </tr>\n",
       "    <tr>\n",
       "      <th>protein</th>\n",
       "      <th></th>\n",
       "      <th></th>\n",
       "      <th></th>\n",
       "    </tr>\n",
       "  </thead>\n",
       "  <tbody>\n",
       "    <tr>\n",
       "      <th>natriuretic_peptides_b</th>\n",
       "      <td>P16860</td>\n",
       "      <td>NPPB</td>\n",
       "      <td>NaN</td>\n",
       "    </tr>\n",
       "    <tr>\n",
       "      <th>angiotensin-converting_enzyme</th>\n",
       "      <td>P12821</td>\n",
       "      <td>ACE DCP DCP1</td>\n",
       "      <td>NaN</td>\n",
       "    </tr>\n",
       "    <tr>\n",
       "      <th>potassium_voltage-gated_channel_subfamily_h_member_2</th>\n",
       "      <td>Q12809</td>\n",
       "      <td>KCNH2 ERG ERG1 HERG</td>\n",
       "      <td>NaN</td>\n",
       "    </tr>\n",
       "    <tr>\n",
       "      <th>c-reactive_protein</th>\n",
       "      <td>P02741</td>\n",
       "      <td>CRP PTX1</td>\n",
       "      <td>NaN</td>\n",
       "    </tr>\n",
       "    <tr>\n",
       "      <th>apolipoprotein_e</th>\n",
       "      <td>P02649</td>\n",
       "      <td>APOE</td>\n",
       "      <td>NaN</td>\n",
       "    </tr>\n",
       "  </tbody>\n",
       "</table>\n",
       "</div>"
      ],
      "text/plain": [
       "                                                   uniprot_id  \\\n",
       "protein                                                         \n",
       "natriuretic_peptides_b                                 P16860   \n",
       "angiotensin-converting_enzyme                          P12821   \n",
       "potassium_voltage-gated_channel_subfamily_h_mem...     Q12809   \n",
       "c-reactive_protein                                     P02741   \n",
       "apolipoprotein_e                                       P02649   \n",
       "\n",
       "                                                             gene_names  \\\n",
       "protein                                                                   \n",
       "natriuretic_peptides_b                                             NPPB   \n",
       "angiotensin-converting_enzyme                              ACE DCP DCP1   \n",
       "potassium_voltage-gated_channel_subfamily_h_mem...  KCNH2 ERG ERG1 HERG   \n",
       "c-reactive_protein                                             CRP PTX1   \n",
       "apolipoprotein_e                                                   APOE   \n",
       "\n",
       "                                                   has_multiple_IDs  \n",
       "protein                                                              \n",
       "natriuretic_peptides_b                                          NaN  \n",
       "angiotensin-converting_enzyme                                   NaN  \n",
       "potassium_voltage-gated_channel_subfamily_h_mem...              NaN  \n",
       "c-reactive_protein                                              NaN  \n",
       "apolipoprotein_e                                                NaN  "
      ]
     },
     "execution_count": 27,
     "metadata": {},
     "output_type": "execute_result"
    }
   ],
   "source": [
    "data = pd.read_csv('uniprot.csv')\n",
    "data.index = data['protein']\n",
    "udf = data.drop('protein',axis =1)\n",
    "udf.head()"
   ]
  },
  {
   "cell_type": "code",
   "execution_count": 28,
   "metadata": {},
   "outputs": [],
   "source": [
    "idx_cvd = list(listdf.index)\n",
    "idx_uprt =  list(udf.index)\n",
    "\n",
    "prot_dict = []\n",
    "for item in idx_cvd:\n",
    "    data = listdf.loc[item,:]\n",
    "    if item in idx_uprt:\n",
    "         prot_dict.append({'Protein':item,\\\n",
    "                     cvd1:data[0],\\\n",
    "                     cvd2:data[1],\\\n",
    "                     'color':data[2],\\\n",
    "                     'label': data[3],\\\n",
    "                     'uprot':udf.loc[item,:][0]})\n",
    "        \n",
    "    else:\n",
    "        print(item,'Match not Found')\n",
    "        prot_dict.append({'Protein':item,\\\n",
    "                     cvd1:data[0],\\\n",
    "                     cvd2:data[1],\\\n",
    "                     'color':data[2],\\\n",
    "                     'label': data[3],\\\n",
    "                     'uprot':'NAN'})\n",
    "        \n",
    "        "
   ]
  },
  {
   "cell_type": "code",
   "execution_count": 29,
   "metadata": {},
   "outputs": [
    {
     "data": {
      "text/html": [
       "<div>\n",
       "<style scoped>\n",
       "    .dataframe tbody tr th:only-of-type {\n",
       "        vertical-align: middle;\n",
       "    }\n",
       "\n",
       "    .dataframe tbody tr th {\n",
       "        vertical-align: top;\n",
       "    }\n",
       "\n",
       "    .dataframe thead th {\n",
       "        text-align: right;\n",
       "    }\n",
       "</style>\n",
       "<table border=\"1\" class=\"dataframe\">\n",
       "  <thead>\n",
       "    <tr style=\"text-align: right;\">\n",
       "      <th></th>\n",
       "      <th>CVA</th>\n",
       "      <th>IHD</th>\n",
       "      <th>color</th>\n",
       "      <th>label</th>\n",
       "      <th>uprot</th>\n",
       "    </tr>\n",
       "    <tr>\n",
       "      <th>Protein</th>\n",
       "      <th></th>\n",
       "      <th></th>\n",
       "      <th></th>\n",
       "      <th></th>\n",
       "      <th></th>\n",
       "    </tr>\n",
       "  </thead>\n",
       "  <tbody>\n",
       "    <tr>\n",
       "      <th>brain-derived_neurotrophic_factor</th>\n",
       "      <td>0.492909</td>\n",
       "      <td>0.026065</td>\n",
       "      <td>b</td>\n",
       "      <td>0</td>\n",
       "      <td>P23560</td>\n",
       "    </tr>\n",
       "    <tr>\n",
       "      <th>alpha-galactosidase_a</th>\n",
       "      <td>0.488128</td>\n",
       "      <td>0.003105</td>\n",
       "      <td>b</td>\n",
       "      <td>0</td>\n",
       "      <td>P06280</td>\n",
       "    </tr>\n",
       "    <tr>\n",
       "      <th>neurotrophin-3</th>\n",
       "      <td>0.510094</td>\n",
       "      <td>0.025944</td>\n",
       "      <td>b</td>\n",
       "      <td>0</td>\n",
       "      <td>P20783</td>\n",
       "    </tr>\n",
       "    <tr>\n",
       "      <th>tetraspanin-33</th>\n",
       "      <td>0.686945</td>\n",
       "      <td>0.003340</td>\n",
       "      <td>b</td>\n",
       "      <td>0</td>\n",
       "      <td>Q86UF1</td>\n",
       "    </tr>\n",
       "    <tr>\n",
       "      <th>glutamate_receptor_ionotropic,_nmda_2c</th>\n",
       "      <td>0.479266</td>\n",
       "      <td>0.051119</td>\n",
       "      <td>b</td>\n",
       "      <td>0</td>\n",
       "      <td>Q14957</td>\n",
       "    </tr>\n",
       "    <tr>\n",
       "      <th>nestin</th>\n",
       "      <td>0.404329</td>\n",
       "      <td>0.040345</td>\n",
       "      <td>b</td>\n",
       "      <td>0</td>\n",
       "      <td>P48681</td>\n",
       "    </tr>\n",
       "    <tr>\n",
       "      <th>glutamate_receptor_ionotropic,_nmda_2b</th>\n",
       "      <td>0.480174</td>\n",
       "      <td>0.050999</td>\n",
       "      <td>b</td>\n",
       "      <td>0</td>\n",
       "      <td>Q13224</td>\n",
       "    </tr>\n",
       "    <tr>\n",
       "      <th>glutamate_receptor_ionotropic,_nmda_1</th>\n",
       "      <td>0.479685</td>\n",
       "      <td>0.051063</td>\n",
       "      <td>b</td>\n",
       "      <td>0</td>\n",
       "      <td>Q05586</td>\n",
       "    </tr>\n",
       "    <tr>\n",
       "      <th>microtubule-associated_protein_2</th>\n",
       "      <td>0.520331</td>\n",
       "      <td>0.000000</td>\n",
       "      <td>b</td>\n",
       "      <td>0</td>\n",
       "      <td>P11137</td>\n",
       "    </tr>\n",
       "    <tr>\n",
       "      <th>glial_fibrillary_acidic_protein</th>\n",
       "      <td>0.568521</td>\n",
       "      <td>0.003560</td>\n",
       "      <td>b</td>\n",
       "      <td>0</td>\n",
       "      <td>P14136</td>\n",
       "    </tr>\n",
       "  </tbody>\n",
       "</table>\n",
       "</div>"
      ],
      "text/plain": [
       "                                             CVA       IHD color  label  \\\n",
       "Protein                                                                   \n",
       "brain-derived_neurotrophic_factor       0.492909  0.026065     b      0   \n",
       "alpha-galactosidase_a                   0.488128  0.003105     b      0   \n",
       "neurotrophin-3                          0.510094  0.025944     b      0   \n",
       "tetraspanin-33                          0.686945  0.003340     b      0   \n",
       "glutamate_receptor_ionotropic,_nmda_2c  0.479266  0.051119     b      0   \n",
       "nestin                                  0.404329  0.040345     b      0   \n",
       "glutamate_receptor_ionotropic,_nmda_2b  0.480174  0.050999     b      0   \n",
       "glutamate_receptor_ionotropic,_nmda_1   0.479685  0.051063     b      0   \n",
       "microtubule-associated_protein_2        0.520331  0.000000     b      0   \n",
       "glial_fibrillary_acidic_protein         0.568521  0.003560     b      0   \n",
       "\n",
       "                                         uprot  \n",
       "Protein                                         \n",
       "brain-derived_neurotrophic_factor       P23560  \n",
       "alpha-galactosidase_a                   P06280  \n",
       "neurotrophin-3                          P20783  \n",
       "tetraspanin-33                          Q86UF1  \n",
       "glutamate_receptor_ionotropic,_nmda_2c  Q14957  \n",
       "nestin                                  P48681  \n",
       "glutamate_receptor_ionotropic,_nmda_2b  Q13224  \n",
       "glutamate_receptor_ionotropic,_nmda_1   Q05586  \n",
       "microtubule-associated_protein_2        P11137  \n",
       "glial_fibrillary_acidic_protein         P14136  "
      ]
     },
     "execution_count": 29,
     "metadata": {},
     "output_type": "execute_result"
    }
   ],
   "source": [
    "resultdf = pd.DataFrame(prot_dict)\n",
    "resultdf.index = resultdf['Protein']\n",
    "resultdf = resultdf.drop('Protein',axis =1)\n",
    "resultdf.head(10)"
   ]
  },
  {
   "cell_type": "code",
   "execution_count": 30,
   "metadata": {},
   "outputs": [],
   "source": [
    "resultdf.to_csv('data/' + cvd1 + '-' + cvd2 + '.csv')"
   ]
  }
 ],
 "metadata": {
  "kernelspec": {
   "display_name": "Python 3",
   "language": "python",
   "name": "python3"
  },
  "language_info": {
   "codemirror_mode": {
    "name": "ipython",
    "version": 3
   },
   "file_extension": ".py",
   "mimetype": "text/x-python",
   "name": "python",
   "nbconvert_exporter": "python",
   "pygments_lexer": "ipython3",
   "version": "3.7.6"
  },
  "widgets": {
   "state": {},
   "version": "1.1.2"
  }
 },
 "nbformat": 4,
 "nbformat_minor": 2
}
