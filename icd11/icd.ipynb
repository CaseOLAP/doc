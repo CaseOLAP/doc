{
 "cells": [
  {
   "cell_type": "markdown",
   "metadata": {},
   "source": [
    "## ICD-11 Data\n",
    "\n",
    "ICD is the foundation for the identification of health trends and statistics globally, and the international standard for reporting diseases and health conditions. It is the diagnostic classification standard for all clinical and research purposes. ICD defines the universe of diseases, disorders, injuries and other related health conditions, listed in a comprehensive, hierarchical fashion that allows for:\n",
    "\n",
    "easy storage, retrieval and analysis of health information for evidenced-based decision-making;\n",
    "sharing and comparing health information between hospitals, regions, settings and countries; and\n",
    "data comparisons in the same location across different time periods.\n",
    "Uses include monitoring of the incidence and prevalence of diseases, observing reimbursements and resource allocation trends, and keeping track of safety and quality guidelines. They also include the counting of deaths as well as diseases, injuries, symptoms, reasons for encounter, factors that influence health status, and external causes of disease. [Source](https://www.who.int/classifications/icd/en/)"
   ]
  },
  {
   "cell_type": "markdown",
   "metadata": {},
   "source": [
    "- [View Sample ICD 11 Tree for Cardiovascular Disease](https://caseolap.github.io/meshtrees/trees/cvdicd.html)"
   ]
  },
  {
   "cell_type": "markdown",
   "metadata": {},
   "source": [
    "#### Getting Client Key for API connection"
   ]
  },
  {
   "cell_type": "markdown",
   "metadata": {},
   "source": [
    "By default one client Id and client secret is provided to be able to authenticate your software to use the ICD APIs. You may however, add more clients or remove some of them.\n",
    "(IMPORTANT!!! If a client key is removed, clients configured with this Id/secret will not be able access the API anymore)\n",
    "\n",
    "    ClientId: xxxxxx\n",
    "    ClientSecret: xxxxxxx"
   ]
  },
  {
   "cell_type": "code",
   "execution_count": 1,
   "metadata": {},
   "outputs": [],
   "source": [
    "import requests\n",
    "import json"
   ]
  },
  {
   "cell_type": "code",
   "execution_count": 2,
   "metadata": {},
   "outputs": [],
   "source": [
    "ClientId =  \"xxxxxx\"\n",
    "ClientSecret =  \"xxxxxx\""
   ]
  },
  {
   "cell_type": "code",
   "execution_count": 3,
   "metadata": {},
   "outputs": [],
   "source": [
    "token_endpoint = 'https://icdaccessmanagement.who.int/connect/token'\n",
    "client_id = ClientId\n",
    "client_secret = ClientSecret\n",
    "scope = 'icdapi_access'\n",
    "grant_type = 'client_credentials'"
   ]
  },
  {
   "cell_type": "markdown",
   "metadata": {},
   "source": [
    "#### Get the OAUTH2 token"
   ]
  },
  {
   "cell_type": "code",
   "execution_count": 4,
   "metadata": {},
   "outputs": [],
   "source": [
    "# set data to post\n",
    "payload = {'client_id': client_id, \n",
    "\t   \t   'client_secret': client_secret, \n",
    "           'scope': scope, \n",
    "           'grant_type': grant_type}\n",
    "           \n",
    "# make request\n",
    "r = requests.post(token_endpoint, data=payload, verify=True).json()\n",
    "token = r['access_token']"
   ]
  },
  {
   "cell_type": "markdown",
   "metadata": {},
   "source": [
    "#### Access ICD API"
   ]
  },
  {
   "cell_type": "code",
   "execution_count": 8,
   "metadata": {},
   "outputs": [],
   "source": [
    "uri = 'https://id.who.int/icd/entity'\n",
    "\n",
    "# HTTP header fields to set\n",
    "\n",
    "headers = {'Authorization':  'Bearer '+token, \n",
    "           'Accept': 'application/json', \n",
    "           'Accept-Language': 'en',\n",
    "           'API-Version': 'v2'}\n",
    "           \n",
    "# make request           \n",
    "r = requests.get(uri, headers=headers, verify=True)\n",
    "\n",
    "# print the result\n",
    "# print (r.text) "
   ]
  },
  {
   "cell_type": "code",
   "execution_count": 9,
   "metadata": {},
   "outputs": [
    {
     "name": "stdout",
     "output_type": "stream",
     "text": [
      "{'@context': 'http://id.who.int/icd/contexts/contextForTopLevel.json', '@id': 'http://id.who.int/icd/entity', 'title': {'@language': 'en', '@value': 'International Classification of Diseases 11th Revision'}, 'releaseId': '2019-04', 'releaseDate': '2019-04-06', 'child': ['http://id.who.int/icd/entity/1435254666', 'http://id.who.int/icd/entity/1630407678', 'http://id.who.int/icd/entity/1766440644', 'http://id.who.int/icd/entity/1954798891', 'http://id.who.int/icd/entity/21500692', 'http://id.who.int/icd/entity/334423054', 'http://id.who.int/icd/entity/274880002', 'http://id.who.int/icd/entity/1296093776', 'http://id.who.int/icd/entity/868865918', 'http://id.who.int/icd/entity/1218729044', 'http://id.who.int/icd/entity/426429380', 'http://id.who.int/icd/entity/197934298', 'http://id.who.int/icd/entity/1256772020', 'http://id.who.int/icd/entity/1639304259', 'http://id.who.int/icd/entity/1473673350', 'http://id.who.int/icd/entity/30659757', 'http://id.who.int/icd/entity/577470983', 'http://id.who.int/icd/entity/714000734', 'http://id.who.int/icd/entity/1306203631', 'http://id.who.int/icd/entity/223744320', 'http://id.who.int/icd/entity/1843895818', 'http://id.who.int/icd/entity/435227771', 'http://id.who.int/icd/entity/850137482', 'http://id.who.int/icd/entity/1249056269', 'http://id.who.int/icd/entity/1596590595', 'http://id.who.int/icd/entity/718687701', 'http://id.who.int/icd/entity/231358748', 'http://id.who.int/icd/entity/979408586', 'http://id.who.int/icd/entity/1801349023'], 'browserUrl': 'NA'}\n"
     ]
    }
   ],
   "source": [
    "print(r.json())"
   ]
  },
  {
   "cell_type": "code",
   "execution_count": 10,
   "metadata": {},
   "outputs": [],
   "source": [
    "D = r.json()\n",
    "ROOTS = []\n",
    "for item in D['child']:\n",
    "    ROOTS.append(item.split(\"/\")[-1])\n",
    "with open(\"ROOTS.json\", 'w') as ff:\n",
    "    json.dump(ROOTS,ff)"
   ]
  },
  {
   "cell_type": "code",
   "execution_count": 1,
   "metadata": {},
   "outputs": [],
   "source": [
    "#ROOTS"
   ]
  },
  {
   "cell_type": "markdown",
   "metadata": {},
   "source": [
    "#### MMS Data"
   ]
  },
  {
   "cell_type": "code",
   "execution_count": 12,
   "metadata": {},
   "outputs": [
    {
     "name": "stdout",
     "output_type": "stream",
     "text": [
      "{'@context': 'http://id.who.int/icd/contexts/contextForFoundationEntity.json', '@id': 'http://id.who.int/icd/entity/1435254666', 'parent': ['http://id.who.int/icd/entity'], 'child': ['http://id.who.int/icd/entity/588616678', 'http://id.who.int/icd/entity/1904876434', 'http://id.who.int/icd/entity/979278646', 'http://id.who.int/icd/entity/1539889147', 'http://id.who.int/icd/entity/1412960686', 'http://id.who.int/icd/entity/1935092859', 'http://id.who.int/icd/entity/487269828', 'http://id.who.int/icd/entity/1000704511', 'http://id.who.int/icd/entity/1104303944', 'http://id.who.int/icd/entity/1585949804', 'http://id.who.int/icd/entity/1959883044', 'http://id.who.int/icd/entity/921595235', 'http://id.who.int/icd/entity/1251496839', 'http://id.who.int/icd/entity/1136802325', 'http://id.who.int/icd/entity/145723401', 'http://id.who.int/icd/entity/985510409', 'http://id.who.int/icd/entity/1646490591', 'http://id.who.int/icd/entity/1939815950', 'http://id.who.int/icd/entity/255141529', 'http://id.who.int/icd/entity/293771399', 'http://id.who.int/icd/entity/5960175', 'http://id.who.int/icd/entity/911707612', 'http://id.who.int/icd/entity/1965146397', 'http://id.who.int/icd/entity/142052508', 'http://id.who.int/icd/entity/1760597414', 'http://id.who.int/icd/entity/458687859', 'http://id.who.int/icd/entity/2143513892'], 'browserUrl': 'NA', 'title': {'@language': 'en', '@value': 'Certain infectious or parasitic diseases'}, 'synonym': [{'label': {'@language': 'en', '@value': 'infection NOS'}}, {'label': {'@language': 'en', '@value': 'infection of unspecified organism and unspecified site'}}, {'label': {'@language': 'en', '@value': 'infectious disease NOS'}}, {'label': {'@language': 'en', '@value': 'infection unknown'}}, {'label': {'@language': 'en', '@value': 'infection process NOS'}}], 'definition': {'@language': 'en', '@value': 'This chapter includes certain conditions caused by a pathogenic organism or microorganism, such as a bacterium, virus, parasite, or fungus.'}, 'exclusion': [{'label': {'@language': 'en', '@value': 'Infection arising from device, implant or graft, not elsewhere classified'}, 'foundationReference': 'http://id.who.int/icd/entity/1612485599'}]}\n"
     ]
    }
   ],
   "source": [
    "uri = 'https://id.who.int/icd/entity/1435254666'\n",
    "\n",
    "# HTTP header fields to set\n",
    "\n",
    "headers = {'Authorization':  'Bearer '+token, \n",
    "           'Accept': 'application/json', \n",
    "           'Accept-Language': 'en',\n",
    "           'API-Version': 'v2'}\n",
    "           \n",
    "# make request           \n",
    "r = requests.get(uri, headers=headers, verify=True)\n",
    "\n",
    "# print the result\n",
    "# print (r.text) \n",
    "print(r.json())"
   ]
  },
  {
   "cell_type": "code",
   "execution_count": 13,
   "metadata": {},
   "outputs": [
    {
     "name": "stdout",
     "output_type": "stream",
     "text": [
      "{'@context': 'http://id.who.int/icd/contexts/contextForLinearizationEntity.json', '@id': 'http://id.who.int/icd/release/11/2019-04/mms/135352227', 'parent': ['http://id.who.int/icd/release/11/2019-04/mms/588616678'], 'child': ['http://id.who.int/icd/release/11/2019-04/mms/257068234', 'http://id.who.int/icd/release/11/2019-04/mms/416025325', 'http://id.who.int/icd/release/11/2019-04/mms/2080365623', 'http://id.who.int/icd/release/11/2019-04/mms/344162786', 'http://id.who.int/icd/release/11/2019-04/mms/250688797', 'http://id.who.int/icd/release/11/2019-04/mms/1000894786', 'http://id.who.int/icd/release/11/2019-04/mms/794462570', 'http://id.who.int/icd/release/11/2019-04/mms/1528414070', 'http://id.who.int/icd/release/11/2019-04/mms/1780040028', 'http://id.who.int/icd/release/11/2019-04/mms/515117475', 'http://id.who.int/icd/release/11/2019-04/mms/135352227/other', 'http://id.who.int/icd/release/11/2019-04/mms/135352227/unspecified'], 'browserUrl': 'https://icd.who.int/browse11/l-m/en#/http%3a%2f%2fid.who.int%2ficd%2fentity%2f135352227', 'code': '', 'source': 'http://id.who.int/icd/entity/135352227', 'classKind': 'block', 'blockId': 'BlockL2-1A0', 'codeRange': '1A00-1A0Z', 'foundationChildElsewhere': [{'label': {'@language': 'en', '@value': 'Abdominal actinomycosis'}, 'foundationReference': 'http://id.who.int/icd/entity/2143116824', 'linearizationReference': 'http://id.who.int/icd/release/11/2019-04/mms/2143116824'}, {'label': {'@language': 'en', '@value': 'Listerial gastroenteritis'}, 'foundationReference': 'http://id.who.int/icd/entity/974967764', 'linearizationReference': 'http://id.who.int/icd/release/11/2019-04/mms/419706488/other'}], 'title': {'@language': 'en', '@value': 'Bacterial intestinal infections'}, 'definition': {'@language': 'en', '@value': 'Any condition of the intestines, caused by an infection with a bacterial source.'}, 'exclusion': [{'label': {'@language': 'en', '@value': 'Bacterial foodborne intoxications'}, 'foundationReference': 'http://id.who.int/icd/entity/1834648119', 'linearizationReference': 'http://id.who.int/icd/release/11/2019-04/mms/1834648119'}]}\n"
     ]
    }
   ],
   "source": [
    "uri = 'http://id.who.int/icd/release/11/2019-04/mms/135352227'\n",
    "\n",
    "# HTTP header fields to set\n",
    "\n",
    "headers = {'Authorization':  'Bearer '+token, \n",
    "           'Accept': 'application/json', \n",
    "           'Accept-Language': 'en',\n",
    "           'API-Version': 'v2'}\n",
    "           \n",
    "# make request           \n",
    "r = requests.get(uri, headers=headers, verify=True)\n",
    "\n",
    "# print the result\n",
    "# print (r.text) \n",
    "print(r.json())"
   ]
  },
  {
   "cell_type": "markdown",
   "metadata": {},
   "source": [
    "#### A Sample File Parser"
   ]
  },
  {
   "cell_type": "code",
   "execution_count": null,
   "metadata": {},
   "outputs": [],
   "source": [
    "def file_parser(file):\n",
    "    with open(file , \"r\")as f:\n",
    "        FDATA = []\n",
    "        for line in f:\n",
    "            raw = json.loads(line)\n",
    "            item = collections.defaultdict(lambda : 'Key Not found') \n",
    "            for key,value in raw.items():\n",
    "                item[key] = value\n",
    "            \n",
    "            #print(item)\n",
    "            title = item['title'][\"@value\"]\n",
    "            ID = item[\"@id\"].split(\"/\")[-1]\n",
    "            \n",
    "            parents = []\n",
    "            if  item['parent']!= \"Key Not found\":\n",
    "                for pt in item['parent']:\n",
    "                    parents.append(pt.split(\"/\")[-1])\n",
    "                \n",
    "       \n",
    "            childs = []\n",
    "            if item['child'] != \"Key Not found\":\n",
    "                for ct in item['child']:\n",
    "                    childs.append(ct.split(\"/\")[-1])\n",
    "            \n",
    "            definition = item[\"definition\"]\n",
    "            if definition != \"Key Not found\":\n",
    "                deff = definition[\"@value\"]\n",
    "            else:\n",
    "                deff = definition\n",
    "            \n",
    "            synonym = item[\"synonym\"]\n",
    "            if synonym != \"Key Not found\":\n",
    "                syn = []\n",
    "                for t in synonym:\n",
    "                    syn.append(t[\"@value\"])\n",
    "            else:\n",
    "                syn = synonym\n",
    "                \n",
    "            FDATA.append({ID :{\"title\":title,\\\n",
    "                          \"synonym\" : syn,\\\n",
    "                          \"definition\":deff,\\\n",
    "                          \"parents\":parents,\\\n",
    "                          \"childs\":childs}})\n",
    "        return FDATA"
   ]
  },
  {
   "cell_type": "markdown",
   "metadata": {},
   "source": [
    "#### [View Sample ICD 11 tree cor Cardiovascular Disease here](https://caseolap.github.io/meshtrees/trees/cvdicd.html)"
   ]
  }
 ],
 "metadata": {
  "kernelspec": {
   "display_name": "Python 3",
   "language": "python",
   "name": "python3"
  },
  "language_info": {
   "codemirror_mode": {
    "name": "ipython",
    "version": 3
   },
   "file_extension": ".py",
   "mimetype": "text/x-python",
   "name": "python",
   "nbconvert_exporter": "python",
   "pygments_lexer": "ipython3",
   "version": "3.7.6"
  }
 },
 "nbformat": 4,
 "nbformat_minor": 2
}
