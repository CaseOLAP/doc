{
 "cells": [
  {
   "cell_type": "markdown",
   "metadata": {},
   "source": [
    "### Populate MongoDB\n",
    "\n",
    "This notebook demonstrate how to populate MongDB Database with Pubmed documents."
   ]
  },
  {
   "cell_type": "code",
   "execution_count": 8,
   "metadata": {},
   "outputs": [],
   "source": [
    "import pymongo\n",
    "import json"
   ]
  },
  {
   "cell_type": "code",
   "execution_count": 9,
   "metadata": {},
   "outputs": [],
   "source": [
    "client = pymongo.MongoClient(\"mongodb://localhost:27017/\")\n",
    "db = client[\"PubMed\"]\n",
    "collection = db[\"documents\"]"
   ]
  },
  {
   "cell_type": "code",
   "execution_count": 10,
   "metadata": {},
   "outputs": [
    {
     "data": {
      "text/plain": [
       "4645413"
      ]
     },
     "execution_count": 10,
     "metadata": {},
     "output_type": "execute_result"
    }
   ],
   "source": [
    "db.documents.estimated_document_count()"
   ]
  },
  {
   "cell_type": "markdown",
   "metadata": {},
   "source": [
    "#### Show database names"
   ]
  },
  {
   "cell_type": "code",
   "execution_count": 11,
   "metadata": {},
   "outputs": [
    {
     "data": {
      "text/plain": [
       "['PubMed', 'admin', 'config', 'local']"
      ]
     },
     "execution_count": 11,
     "metadata": {},
     "output_type": "execute_result"
    }
   ],
   "source": [
    "client.list_database_names()"
   ]
  },
  {
   "cell_type": "markdown",
   "metadata": {},
   "source": [
    "#### To drop the database"
   ]
  },
  {
   "cell_type": "code",
   "execution_count": 12,
   "metadata": {},
   "outputs": [],
   "source": [
    "#client.drop_database('PubMed')"
   ]
  },
  {
   "cell_type": "markdown",
   "metadata": {},
   "source": [
    "### Populate the Database"
   ]
  },
  {
   "cell_type": "code",
   "execution_count": 6,
   "metadata": {},
   "outputs": [
    {
     "name": "stdout",
     "output_type": "stream",
     "text": [
      "dict_keys(['PMID', 'ArticleTitle', 'Abstract', 'MeshHeadingList', 'Journal', 'PubDate', 'Country'])\n",
      "dict_keys(['PMID', 'ArticleTitle', 'Abstract', 'MeshHeadingList', 'Journal', 'PubDate', 'Country'])\n",
      "dict_keys(['PMID', 'ArticleTitle', 'Abstract', 'MeshHeadingList', 'Journal', 'PubDate', 'Country'])\n",
      "dict_keys(['PMID', 'ArticleTitle', 'Abstract', 'MeshHeadingList', 'Journal', 'PubDate', 'Country'])\n",
      "dict_keys(['PMID', 'ArticleTitle', 'Abstract', 'MeshHeadingList', 'Journal', 'PubDate', 'Country'])\n"
     ]
    }
   ],
   "source": [
    "k =0\n",
    "with open(\"../caseolap/data/pubmed.json\", 'r')as file:\n",
    "    while k< 5:\n",
    "        for line in file:\n",
    "            item = json.loads(line.strip())\n",
    "            print(item.keys())\n",
    "            k = k+1\n",
    "            break       "
   ]
  },
  {
   "cell_type": "code",
   "execution_count": null,
   "metadata": {},
   "outputs": [],
   "source": [
    "k = 0\n",
    "j = 1\n",
    "selected = {}\n",
    "with open(\"../caseolap/data/pubmed.json\", 'r')as file:\n",
    "        for line in file:\n",
    "            data = {}\n",
    "            item = json.loads(line.strip())\n",
    "            #print(item.keys())\n",
    "            PMID = item['PMID']\n",
    "            \n",
    "            try:\n",
    "                status = selected[PMID]\n",
    "            \n",
    "            except:\n",
    "                data.update({\"_id\": item['PMID'],\n",
    "                       \"title\": item[\"ArticleTitle\"],\\\n",
    "                       \"abstract\": item[\"Abstract\"],\\\n",
    "                       \"MeSH\": item[\"MeshHeadingList\"],\\\n",
    "                       \"journal\": item[\"Journal\"],\\\n",
    "                       \"date\":item[\"PubDate\"],\n",
    "                       \"location\": item[\"Country\"]})\n",
    "            \n",
    "            selected.update({PMID:True})\n",
    "            \n",
    "            collection.insert_one(data)\n",
    "            \n",
    "            if k%500000 == 0:\n",
    "                print(j*0.5, \"million documents incerted in database successfully\")\n",
    "                j = j+1\n",
    "            \n",
    "            k = k+1 "
   ]
  },
  {
   "cell_type": "markdown",
   "metadata": {},
   "source": [
    "-----------"
   ]
  },
  {
   "cell_type": "code",
   "execution_count": 15,
   "metadata": {},
   "outputs": [
    {
     "name": "stdout",
     "output_type": "stream",
     "text": [
      "{'_id': '21103068', 'title': 'A Direct Comparison of the Anticancer Activities of Digitoxin MeON-Neoglycosides and O-Glycosides: Oligosaccharide Chain Length-Dependent Induction of Caspase-9-Mediated Apoptosis.', 'abstract': 'Digitoxin is a cardiac glycoside currently being investigated for potential use in oncology. While a number of structure-activity relationship studies have been conducted, an investigation of anticancer activity as a function of oligosaccharide chain length has not yet been performed. We generated mono-, di-, and tri-O-digitoxoside derivatives of digitoxin and compared their activity to the corresponding MeON-neoglycosides. Both classes of cardenolide derivatives display comparable oligosaccharide chain length-dependent cytotoxicity toward human cancer cell lines. Further investigation revealed that both classes of compounds induce caspase-9-mediated apoptosis in non-small cell lung cancer cells (NCI-H460). Since O-glycosides and MeON-neoglycosides share a similar mode of action, the convenience of MeON-neoglycosylation could be exploited in future SAR work to rapidly survey large numbers of carbohydrates to prioritize selected O-glycoside candidates for traditional synthesis.', 'MeSH': [], 'journal': 'ACS medicinal chemistry letters', 'date': {'Year': '2010', 'Month': 'Jul', 'Day': '12', 'Season': '', 'MedlineDate': ''}, 'location': 'United States'}\n"
     ]
    }
   ],
   "source": [
    "x = collection.find_one()\n",
    "print(x) "
   ]
  },
  {
   "cell_type": "markdown",
   "metadata": {},
   "source": [
    "----------------"
   ]
  }
 ],
 "metadata": {
  "kernelspec": {
   "display_name": "Python 3",
   "language": "python",
   "name": "python3"
  },
  "language_info": {
   "codemirror_mode": {
    "name": "ipython",
    "version": 3
   },
   "file_extension": ".py",
   "mimetype": "text/x-python",
   "name": "python",
   "nbconvert_exporter": "python",
   "pygments_lexer": "ipython3",
   "version": "3.7.6"
  }
 },
 "nbformat": 4,
 "nbformat_minor": 2
}
